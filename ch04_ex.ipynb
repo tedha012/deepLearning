{
 "cells": [
  {
   "cell_type": "markdown",
   "metadata": {},
   "source": [
    "### 최소 제곱법으로 기울기와 y절편 구하기"
   ]
  },
  {
   "cell_type": "code",
   "execution_count": 1,
   "metadata": {},
   "outputs": [],
   "source": [
    "import numpy as np"
   ]
  },
  {
   "cell_type": "code",
   "execution_count": 2,
   "metadata": {},
   "outputs": [],
   "source": [
    "# 공부한 시간(x)와 점수(y)를 넘파이 배열로 선언\n",
    "x = np.array([2,4,6,8])\n",
    "y = np.array([81, 93, 91, 97])"
   ]
  },
  {
   "cell_type": "code",
   "execution_count": 3,
   "metadata": {},
   "outputs": [],
   "source": [
    "# 공부한 시간(x)와 점수(y) 의 평균(mx, my)\n",
    "mx = np.mean(x)\n",
    "my = np.mean(y)"
   ]
  },
  {
   "cell_type": "code",
   "execution_count": 4,
   "metadata": {},
   "outputs": [
    {
     "data": {
      "text/plain": [
       "20.0"
      ]
     },
     "execution_count": 4,
     "metadata": {},
     "output_type": "execute_result"
    }
   ],
   "source": [
    "# 기울기를 구하는 공식 최소제곱법의 분모\n",
    "divisor = sum([(i-mx)**2 for i in x])\n",
    "divisor # 분자"
   ]
  },
  {
   "cell_type": "code",
   "execution_count": 6,
   "metadata": {},
   "outputs": [
    {
     "data": {
      "text/plain": [
       "46.0"
      ]
     },
     "execution_count": 6,
     "metadata": {},
     "output_type": "execute_result"
    }
   ],
   "source": [
    "# 기울기를 구하는 공식 최소제곱법의 분자\n",
    "def top(x, mx, y, my):\n",
    "  d = 0\n",
    "  for i in range(len(x)):\n",
    "    d += (x[i]-mx) * (y[i]-my)\n",
    "  return d\n",
    "\n",
    "dividend = top(x,mx, y, my)\n",
    "dividend # 분모"
   ]
  },
  {
   "cell_type": "code",
   "execution_count": 7,
   "metadata": {},
   "outputs": [
    {
     "data": {
      "text/plain": [
       "2.3"
      ]
     },
     "execution_count": 7,
     "metadata": {},
     "output_type": "execute_result"
    }
   ],
   "source": [
    "# 기울기 a\n",
    "a = dividend / divisor\n",
    "a"
   ]
  },
  {
   "cell_type": "code",
   "execution_count": 8,
   "metadata": {},
   "outputs": [
    {
     "data": {
      "text/plain": [
       "79.0"
      ]
     },
     "execution_count": 8,
     "metadata": {},
     "output_type": "execute_result"
    }
   ],
   "source": [
    "# y절편 b\n",
    "b = my - (mx*a)\n",
    "b"
   ]
  },
  {
   "cell_type": "code",
   "execution_count": 9,
   "metadata": {},
   "outputs": [
    {
     "name": "stdout",
     "output_type": "stream",
     "text": [
      "기울기 a =  2.3\n",
      "y 절편 b = 79.0\n"
     ]
    }
   ],
   "source": [
    "print(\"기울기 a = \", a)\n",
    "print(\"y 절편 b =\", b)"
   ]
  },
  {
   "cell_type": "markdown",
   "metadata": {},
   "source": [
    "### 평균 제곱 오차 구하기"
   ]
  },
  {
   "cell_type": "code",
   "execution_count": 10,
   "metadata": {},
   "outputs": [],
   "source": [
    "# 가상의 기울기 a와 y절편 b 설정\n",
    "fake_a = 3\n",
    "fake_b = 76"
   ]
  },
  {
   "cell_type": "code",
   "execution_count": 11,
   "metadata": {},
   "outputs": [],
   "source": [
    "# 공부한 시간(x)와 점수(y)를 넘파이 배열로 선언\n",
    "x = np.array([2,4,6,8])\n",
    "y = np.array([81, 93, 91, 97])"
   ]
  },
  {
   "cell_type": "code",
   "execution_count": 12,
   "metadata": {},
   "outputs": [],
   "source": [
    "# y=ax + b 에 가상의 a, b 값을 대입한 결과를 출력하는 함수 선언\n",
    "def predict(x):\n",
    "  return fake_a * x + fake_b"
   ]
  },
  {
   "cell_type": "code",
   "execution_count": 19,
   "metadata": {},
   "outputs": [
    {
     "name": "stdout",
     "output_type": "stream",
     "text": [
      "공부시간=2, 실제점수=81, 예측점수=82\n",
      "공부시간=4, 실제점수=93, 예측점수=88\n",
      "공부시간=6, 실제점수=91, 예측점수=94\n",
      "공부시간=8, 실제점수=97, 예측점수=100\n"
     ]
    }
   ],
   "source": [
    "# 예측 값이 들어갈 predict_result 리스트 선언\n",
    "predict_result = []\n",
    "\n",
    "# 공부시간에 대비 가상의 a, b 값을 대입한 예측 점수와 실제 점수 확인 \n",
    "for i in range(len(x)):\n",
    "  predict_result.append(predict(x[i]))\n",
    "  print(f\"공부시간={x[i]}, 실제점수={y[i]}, 예측점수={predict(x[i])}\")"
   ]
  },
  {
   "cell_type": "code",
   "execution_count": 23,
   "metadata": {},
   "outputs": [
    {
     "name": "stdout",
     "output_type": "stream",
     "text": [
      "평균 제곱 오차: 11.0\n"
     ]
    }
   ],
   "source": [
    "# 평균 제곱 오차 함수를 각 y값에 대입하여 최종 값 확인\n",
    "n = len(x)\n",
    "def mse(y, y_pred):\n",
    "  return (1/n) * sum((y-y_pred)**2)\n",
    "\n",
    "# 평균 제곱 오차 값 출력\n",
    "print(\"평균 제곱 오차: \" + str(mse(y,predict_result)))"
   ]
  },
  {
   "cell_type": "code",
   "execution_count": null,
   "metadata": {},
   "outputs": [],
   "source": []
  }
 ],
 "metadata": {
  "kernelspec": {
   "display_name": "Python 3.10.8 64-bit",
   "language": "python",
   "name": "python3"
  },
  "language_info": {
   "codemirror_mode": {
    "name": "ipython",
    "version": 3
   },
   "file_extension": ".py",
   "mimetype": "text/x-python",
   "name": "python",
   "nbconvert_exporter": "python",
   "pygments_lexer": "ipython3",
   "version": "3.10.8"
  },
  "orig_nbformat": 4,
  "vscode": {
   "interpreter": {
    "hash": "fb4569285eef3a3450cb62085a5b1e0da4bce0af555edc33dcf29baf3acc1368"
   }
  }
 },
 "nbformat": 4,
 "nbformat_minor": 2
}
